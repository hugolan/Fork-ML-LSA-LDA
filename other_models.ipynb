{
 "cells": [
  {
   "cell_type": "markdown",
   "id": "a01460d5-38fc-41e5-ad55-662cc26be563",
   "metadata": {},
   "source": [
    "# Other Models: Latent Semantic Analysis, Brown Clustering"
   ]
  },
  {
   "cell_type": "code",
   "execution_count": 1,
   "id": "667e4d60-00f0-4009-9021-f80b1a081954",
   "metadata": {},
   "outputs": [],
   "source": [
    "import pandas as pd\n",
    "import numpy as np\n",
    "import re \n",
    "import random\n",
    "import matplotlib.pyplot as plt\n",
    "import seaborn as sns"
   ]
  },
  {
   "cell_type": "code",
   "execution_count": 2,
   "id": "b8f1ff95-c566-4ba8-940c-2ba75705b080",
   "metadata": {},
   "outputs": [],
   "source": [
    "%load_ext autoreload"
   ]
  },
  {
   "cell_type": "code",
   "execution_count": 3,
   "id": "b9accb8e-4463-4f2e-80ab-872dd297ab13",
   "metadata": {},
   "outputs": [],
   "source": [
    "%autoreload 2"
   ]
  },
  {
   "cell_type": "code",
   "execution_count": 4,
   "id": "9f37a3c7-a164-426b-8a4e-6f0a576a33e6",
   "metadata": {},
   "outputs": [
    {
     "name": "stderr",
     "output_type": "stream",
     "text": [
      "[nltk_data] Downloading package stopwords to\n",
      "[nltk_data]     /Users/meghanharrington/nltk_data...\n",
      "[nltk_data]   Package stopwords is already up-to-date!\n"
     ]
    }
   ],
   "source": [
    "from helpers.preprocessing import *"
   ]
  },
  {
   "cell_type": "code",
   "execution_count": 6,
   "id": "ba90fdfe-8737-49b5-8f1c-eed58e1d162a",
   "metadata": {},
   "outputs": [],
   "source": [
    "df = load(\"data/impresso3.csv\")"
   ]
  },
  {
   "cell_type": "code",
   "execution_count": 7,
   "id": "479255fe-4cc2-40dc-8830-9ce5996d72f5",
   "metadata": {},
   "outputs": [
    {
     "data": {
      "text/html": [
       "<div>\n",
       "<style scoped>\n",
       "    .dataframe tbody tr th:only-of-type {\n",
       "        vertical-align: middle;\n",
       "    }\n",
       "\n",
       "    .dataframe tbody tr th {\n",
       "        vertical-align: top;\n",
       "    }\n",
       "\n",
       "    .dataframe thead th {\n",
       "        text-align: right;\n",
       "    }\n",
       "</style>\n",
       "<table border=\"1\" class=\"dataframe\">\n",
       "  <thead>\n",
       "    <tr style=\"text-align: right;\">\n",
       "      <th></th>\n",
       "      <th>uid</th>\n",
       "      <th>type</th>\n",
       "      <th>language</th>\n",
       "      <th>title</th>\n",
       "      <th>size</th>\n",
       "      <th>country</th>\n",
       "      <th>newspaper</th>\n",
       "      <th>issue</th>\n",
       "      <th>pages</th>\n",
       "      <th>nb_pages</th>\n",
       "      <th>...</th>\n",
       "      <th>year</th>\n",
       "      <th>is_on_front</th>\n",
       "      <th>date</th>\n",
       "      <th>persons_mentioned</th>\n",
       "      <th>locations_mentioned</th>\n",
       "      <th>content</th>\n",
       "      <th>access_right</th>\n",
       "      <th>content_provider</th>\n",
       "      <th>is_content_available</th>\n",
       "      <th>[total:7120,available:7200]</th>\n",
       "    </tr>\n",
       "  </thead>\n",
       "  <tbody>\n",
       "    <tr>\n",
       "      <th>0</th>\n",
       "      <td>JDG-1964-04-29-a-i0007</td>\n",
       "      <td>NaN</td>\n",
       "      <td>fr</td>\n",
       "      <td>Un jour en Suisse\" sera insuffisant pour décou...</td>\n",
       "      <td>1185</td>\n",
       "      <td>CH</td>\n",
       "      <td>JDG</td>\n",
       "      <td>JDG-1964-04-29-a</td>\n",
       "      <td>2</td>\n",
       "      <td>1</td>\n",
       "      <td>...</td>\n",
       "      <td>1964</td>\n",
       "      <td>False</td>\n",
       "      <td>1964-04-29 00:00:00+00:00</td>\n",
       "      <td>Les Sécuritas|M. Gabriel Despland, président|M...</td>\n",
       "      <td>Suisse|Lausanne|Suisse|Lausanne|Suisse|Lausanne</td>\n",
       "      <td>Un jour en Suisse \" sera insuffisant pour déco...</td>\n",
       "      <td>OpenPrivate</td>\n",
       "      <td>SNL</td>\n",
       "      <td>y</td>\n",
       "      <td>NaN</td>\n",
       "    </tr>\n",
       "    <tr>\n",
       "      <th>1</th>\n",
       "      <td>GDL-1964-10-16-a-i0035</td>\n",
       "      <td>NaN</td>\n",
       "      <td>fr</td>\n",
       "      <td>Après une campagne de protestation 500 000 vis...</td>\n",
       "      <td>601</td>\n",
       "      <td>CH</td>\n",
       "      <td>GDL</td>\n",
       "      <td>GDL-1964-10-16-a</td>\n",
       "      <td>3</td>\n",
       "      <td>1</td>\n",
       "      <td>...</td>\n",
       "      <td>1964</td>\n",
       "      <td>False</td>\n",
       "      <td>1964-10-16 00:00:00+00:00</td>\n",
       "      <td>M. Charles Apothéloz, directeur|M. Hans Giger|...</td>\n",
       "      <td>Suisse|Suisse|Lausanne|Lausanne|Bern|Suisse</td>\n",
       "      <td>Après une campagne de protestation 500 000 vis...</td>\n",
       "      <td>OpenPrivate</td>\n",
       "      <td>SNL</td>\n",
       "      <td>y</td>\n",
       "      <td>NaN</td>\n",
       "    </tr>\n",
       "    <tr>\n",
       "      <th>2</th>\n",
       "      <td>luxland-1968-04-26-a-i0033</td>\n",
       "      <td>NaN</td>\n",
       "      <td>fr</td>\n",
       "      <td>L'ordinateur n'est un épouvantail que pour les...</td>\n",
       "      <td>430</td>\n",
       "      <td>LU</td>\n",
       "      <td>luxland</td>\n",
       "      <td>luxland-1968-04-26-a</td>\n",
       "      <td>6</td>\n",
       "      <td>1</td>\n",
       "      <td>...</td>\n",
       "      <td>1968</td>\n",
       "      <td>False</td>\n",
       "      <td>1968-04-26 00:00:00+00:00</td>\n",
       "      <td>Irving Adler, spécialiste américain</td>\n",
       "      <td>NaN</td>\n",
       "      <td>NaN</td>\n",
       "      <td>Closed</td>\n",
       "      <td>BNL</td>\n",
       "      <td>NaN</td>\n",
       "      <td>NaN</td>\n",
       "    </tr>\n",
       "    <tr>\n",
       "      <th>3</th>\n",
       "      <td>EXP-1970-04-20-a-i0053</td>\n",
       "      <td>NaN</td>\n",
       "      <td>fr</td>\n",
       "      <td>Â Bâle, la formation professionnelle horlogère</td>\n",
       "      <td>342</td>\n",
       "      <td>CH</td>\n",
       "      <td>EXP</td>\n",
       "      <td>EXP-1970-04-20-a</td>\n",
       "      <td>3</td>\n",
       "      <td>1</td>\n",
       "      <td>...</td>\n",
       "      <td>1970</td>\n",
       "      <td>False</td>\n",
       "      <td>1970-04-20 00:00:00+00:00</td>\n",
       "      <td>NaN</td>\n",
       "      <td>Bâle|Bâle</td>\n",
       "      <td>Â Bâle, la formation professionnelle horlogère...</td>\n",
       "      <td>OpenPrivate</td>\n",
       "      <td>SNL</td>\n",
       "      <td>y</td>\n",
       "      <td>NaN</td>\n",
       "    </tr>\n",
       "    <tr>\n",
       "      <th>4</th>\n",
       "      <td>IMP-1970-04-21-a-i0174</td>\n",
       "      <td>NaN</td>\n",
       "      <td>fr</td>\n",
       "      <td>NaN</td>\n",
       "      <td>324</td>\n",
       "      <td>CH</td>\n",
       "      <td>IMP</td>\n",
       "      <td>IMP-1970-04-21-a</td>\n",
       "      <td>14</td>\n",
       "      <td>1</td>\n",
       "      <td>...</td>\n",
       "      <td>1970</td>\n",
       "      <td>False</td>\n",
       "      <td>1970-04-21 00:00:00+00:00</td>\n",
       "      <td>NaN</td>\n",
       "      <td>Bâle</td>\n",
       "      <td>Stand «Formation professionnelle horlogère » à...</td>\n",
       "      <td>OpenPrivate</td>\n",
       "      <td>SNL</td>\n",
       "      <td>y</td>\n",
       "      <td>NaN</td>\n",
       "    </tr>\n",
       "  </tbody>\n",
       "</table>\n",
       "<p>5 rows × 21 columns</p>\n",
       "</div>"
      ],
      "text/plain": [
       "                          uid  type language  \\\n",
       "0      JDG-1964-04-29-a-i0007   NaN       fr   \n",
       "1      GDL-1964-10-16-a-i0035   NaN       fr   \n",
       "2  luxland-1968-04-26-a-i0033   NaN       fr   \n",
       "3      EXP-1970-04-20-a-i0053   NaN       fr   \n",
       "4      IMP-1970-04-21-a-i0174   NaN       fr   \n",
       "\n",
       "                                               title  size country newspaper  \\\n",
       "0  Un jour en Suisse\" sera insuffisant pour décou...  1185      CH       JDG   \n",
       "1  Après une campagne de protestation 500 000 vis...   601      CH       GDL   \n",
       "2  L'ordinateur n'est un épouvantail que pour les...   430      LU   luxland   \n",
       "3     Â Bâle, la formation professionnelle horlogère   342      CH       EXP   \n",
       "4                                                NaN   324      CH       IMP   \n",
       "\n",
       "                  issue pages  nb_pages  ...  year  is_on_front  \\\n",
       "0      JDG-1964-04-29-a     2         1  ...  1964        False   \n",
       "1      GDL-1964-10-16-a     3         1  ...  1964        False   \n",
       "2  luxland-1968-04-26-a     6         1  ...  1968        False   \n",
       "3      EXP-1970-04-20-a     3         1  ...  1970        False   \n",
       "4      IMP-1970-04-21-a    14         1  ...  1970        False   \n",
       "\n",
       "                       date  \\\n",
       "0 1964-04-29 00:00:00+00:00   \n",
       "1 1964-10-16 00:00:00+00:00   \n",
       "2 1968-04-26 00:00:00+00:00   \n",
       "3 1970-04-20 00:00:00+00:00   \n",
       "4 1970-04-21 00:00:00+00:00   \n",
       "\n",
       "                                   persons_mentioned  \\\n",
       "0  Les Sécuritas|M. Gabriel Despland, président|M...   \n",
       "1  M. Charles Apothéloz, directeur|M. Hans Giger|...   \n",
       "2                Irving Adler, spécialiste américain   \n",
       "3                                                NaN   \n",
       "4                                                NaN   \n",
       "\n",
       "                               locations_mentioned  \\\n",
       "0  Suisse|Lausanne|Suisse|Lausanne|Suisse|Lausanne   \n",
       "1      Suisse|Suisse|Lausanne|Lausanne|Bern|Suisse   \n",
       "2                                              NaN   \n",
       "3                                        Bâle|Bâle   \n",
       "4                                             Bâle   \n",
       "\n",
       "                                             content access_right  \\\n",
       "0  Un jour en Suisse \" sera insuffisant pour déco...  OpenPrivate   \n",
       "1  Après une campagne de protestation 500 000 vis...  OpenPrivate   \n",
       "2                                                NaN       Closed   \n",
       "3  Â Bâle, la formation professionnelle horlogère...  OpenPrivate   \n",
       "4  Stand «Formation professionnelle horlogère » à...  OpenPrivate   \n",
       "\n",
       "  content_provider is_content_available [total:7120,available:7200]  \n",
       "0              SNL                    y                         NaN  \n",
       "1              SNL                    y                         NaN  \n",
       "2              BNL                  NaN                         NaN  \n",
       "3              SNL                    y                         NaN  \n",
       "4              SNL                    y                         NaN  \n",
       "\n",
       "[5 rows x 21 columns]"
      ]
     },
     "execution_count": 7,
     "metadata": {},
     "output_type": "execute_result"
    }
   ],
   "source": [
    "df.head()"
   ]
  },
  {
   "cell_type": "code",
   "execution_count": 8,
   "id": "c1c0a7e6-5a58-444b-855f-60bd6536a610",
   "metadata": {},
   "outputs": [
    {
     "name": "stderr",
     "output_type": "stream",
     "text": [
      "/Users/meghanharrington/opt/anaconda3/envs/ada/lib/python3.8/site-packages/pandas/core/generic.py:5516: SettingWithCopyWarning: \n",
      "A value is trying to be set on a copy of a slice from a DataFrame.\n",
      "Try using .loc[row_indexer,col_indexer] = value instead\n",
      "\n",
      "See the caveats in the documentation: https://pandas.pydata.org/pandas-docs/stable/user_guide/indexing.html#returning-a-view-versus-a-copy\n",
      "  self[name] = value\n"
     ]
    }
   ],
   "source": [
    "df = cleanup(df)"
   ]
  },
  {
   "cell_type": "code",
   "execution_count": 9,
   "id": "a3aa7986-4121-4a7a-8896-e63b67968956",
   "metadata": {},
   "outputs": [
    {
     "data": {
      "text/plain": [
       "(4352, 21)"
      ]
     },
     "execution_count": 9,
     "metadata": {},
     "output_type": "execute_result"
    }
   ],
   "source": [
    "df.shape"
   ]
  },
  {
   "cell_type": "markdown",
   "id": "cd2b4e58-44ba-4b40-92c7-aa4913659fcc",
   "metadata": {},
   "source": [
    "### Preprocessing"
   ]
  },
  {
   "cell_type": "code",
   "execution_count": 10,
   "id": "62bbf38c-1dc6-4b3d-a98d-80a78d11f38a",
   "metadata": {},
   "outputs": [],
   "source": [
    "data = spacy_prep(df.content)"
   ]
  },
  {
   "cell_type": "code",
   "execution_count": 11,
   "id": "444dbadb-98eb-460e-976f-35d13da78d23",
   "metadata": {},
   "outputs": [],
   "source": [
    "# Remove words that appear in more than 30% of the articles and words that appear less than 3 times\n",
    "min_words = 3\n",
    "max_freq = 0.3"
   ]
  },
  {
   "cell_type": "code",
   "execution_count": 12,
   "id": "31e9d67d-9eec-4c12-ba92-6990db7edb28",
   "metadata": {},
   "outputs": [],
   "source": [
    "# create_corpus creates a spacy dictionary and corpus \n",
    "dictionary, corpus = create_corpus(data, min_words, max_freq)"
   ]
  },
  {
   "cell_type": "markdown",
   "id": "955b715d-941f-4ac7-87f3-31dc5d63cf22",
   "metadata": {},
   "source": [
    "### LSA"
   ]
  },
  {
   "cell_type": "code",
   "execution_count": 13,
   "id": "49a9a5f3-98c9-4f03-9619-50973ed5e62a",
   "metadata": {},
   "outputs": [],
   "source": [
    "from helpers.models import *"
   ]
  },
  {
   "cell_type": "code",
   "execution_count": 14,
   "id": "ef00084f-fb22-414c-8e9c-30f5598db738",
   "metadata": {},
   "outputs": [],
   "source": [
    "num_words = 10"
   ]
  },
  {
   "cell_type": "code",
   "execution_count": 15,
   "id": "75493149-2750-476c-a5d2-83d7d8429e58",
   "metadata": {},
   "outputs": [
    {
     "data": {
      "image/png": "[encoded data removed]",
      "text/plain": [
       "<Figure size 432x288 with 1 Axes>"
      ]
     },
     "metadata": {},
     "output_type": "display_data"
    }
   ],
   "source": [
    "# Plot coherences by number of topics\n",
    "start = 4\n",
    "stop = 18\n",
    "step = 1\n",
    "power_iters = 10\n",
    "plot_graph(data, dictionary, corpus, start, stop, step, power_iters)"
   ]
  },
  {
   "cell_type": "code",
   "execution_count": 17,
   "id": "4e249018-14d3-4c9f-b0f8-12001bdc50b1",
   "metadata": {},
   "outputs": [],
   "source": [
    "# Compute coherences for multiple different topic numbers\n",
    "models, coherences = compute_coherences_lsa(dictionary, corpus, data, 4, 13, 1, 10)"
   ]
  },
  {
   "cell_type": "code",
   "execution_count": 18,
   "id": "2a229e5e-d1a6-4355-8069-09f3480f5f0a",
   "metadata": {},
   "outputs": [
    {
     "data": {
      "text/plain": [
       "[0.46065160418858986,\n",
       " 0.4374795826141241,\n",
       " 0.3886058170996424,\n",
       " 0.3925027916890516,\n",
       " 0.4135159786050643,\n",
       " 0.39995097766696797,\n",
       " 0.41731627271638416,\n",
       " 0.4184591999035247,\n",
       " 0.3831787569347875]"
      ]
     },
     "execution_count": 18,
     "metadata": {},
     "output_type": "execute_result"
    }
   ],
   "source": [
    "coherences"
   ]
  },
  {
   "cell_type": "code",
   "execution_count": 19,
   "id": "155f8326-12f9-4639-a011-8f60bb9eb725",
   "metadata": {},
   "outputs": [
    {
     "name": "stdout",
     "output_type": "stream",
     "text": [
      "[(0, '0.206*\"console\" + 0.176*\"nintendo\" + 0.144*\"enfant\" + 0.141*\"jeune\" + 0.141*\"film\" + 0.118*\"pouvoir\" + 0.113*\"ecran\" + 0.113*\"voir\" + 0.110*\"annee\" + 0.106*\"titre\"'), (1, '0.362*\"nintendo\" + 0.350*\"console\" + -0.246*\"enfant\" + -0.224*\"jeune\" + 0.180*\"mario\" + 0.176*\"super\" + -0.164*\"film\" + 0.151*\"playstation\" + 0.123*\"titre\" + 0.114*\"cartouche\"'), (2, '-0.323*\"film\" + 0.319*\"nintendo\" + 0.196*\"enfant\" + 0.155*\"console\" + 0.152*\"million\" + 0.146*\"marche\" + -0.142*\"course\" + 0.137*\"mario\" + 0.136*\"super\" + -0.134*\"mode\"'), (3, '0.496*\"film\" + 0.405*\"mario\" + 0.286*\"super\" + 0.228*\"nintendo\" + -0.215*\"playstation\" + 0.173*\"super_mario\" + 0.135*\"cinema\" + -0.129*\"course\" + -0.128*\"sony\" + -0.123*\"console\"')]\n"
     ]
    }
   ],
   "source": [
    "# We see the highest coherence for 5 topics, so let's see what we get\n",
    "lsa_model = lsa(dictionary, corpus, 4, num_words, 10)"
   ]
  },
  {
   "cell_type": "code",
   "execution_count": 21,
   "id": "c158401f-bfd5-43af-9f49-770300d84efe",
   "metadata": {},
   "outputs": [
    {
     "data": {
      "text/plain": [
       "[(0,\n",
       "  '0.206*\"console\" + 0.176*\"nintendo\" + 0.144*\"enfant\" + 0.141*\"jeune\" + 0.141*\"film\" + 0.118*\"pouvoir\" + 0.113*\"ecran\" + 0.113*\"voir\" + 0.110*\"annee\" + 0.106*\"titre\" + 0.105*\"ete\" + 0.104*\"suisse\" + 0.104*\"playstation\" + 0.099*\"jour\" + 0.097*\"prendre\"'),\n",
       " (1,\n",
       "  '0.362*\"nintendo\" + 0.350*\"console\" + -0.246*\"enfant\" + -0.224*\"jeune\" + 0.180*\"mario\" + 0.176*\"super\" + -0.164*\"film\" + 0.151*\"playstation\" + 0.123*\"titre\" + 0.114*\"cartouche\" + 0.105*\"sony\" + -0.097*\"suisse\" + -0.096*\"violence\" + 0.089*\"version\" + -0.088*\"parent\"'),\n",
       " (2,\n",
       "  '-0.323*\"film\" + 0.319*\"nintendo\" + 0.196*\"enfant\" + 0.155*\"console\" + 0.152*\"million\" + 0.146*\"marche\" + -0.142*\"course\" + 0.137*\"mario\" + 0.136*\"super\" + -0.134*\"mode\" + -0.122*\"personnage\" + -0.119*\"playstation\" + 0.113*\"franc\" + -0.111*\"combat\" + -0.105*\"action\"'),\n",
       " (3,\n",
       "  '-0.496*\"film\" + -0.405*\"mario\" + -0.286*\"super\" + -0.228*\"nintendo\" + 0.215*\"playstation\" + -0.173*\"super_mario\" + -0.135*\"cinema\" + 0.129*\"course\" + 0.128*\"sony\" + 0.123*\"console\" + 0.102*\"voiture\" + -0.092*\"personnage\" + -0.086*\"festival\" + 0.080*\"mode\" + -0.080*\"cartouche\"')]"
      ]
     },
     "execution_count": 21,
     "metadata": {},
     "output_type": "execute_result"
    }
   ],
   "source": [
    "models[0].print_topics(num_words=15)"
   ]
  },
  {
   "cell_type": "markdown",
   "id": "ac181d28-8b49-4a34-99f6-0a989744f363",
   "metadata": {},
   "source": [
    "We get some topics but they all seem pretty similar and not very interesting. There is a lot of repetition of words among the different topics. For example, the first two topics both have nintendo and console as their most important words. This is to be expected, since LSA is known to perform poorly on a small corpus."
   ]
  },
  {
   "cell_type": "markdown",
   "id": "3ac727d4-6375-42ca-bdd3-6a5f0816d34c",
   "metadata": {},
   "source": [
    "### Brown Clustering"
   ]
  },
  {
   "cell_type": "markdown",
   "id": "ff136975-c3b5-41dc-99f0-db40c14d90b3",
   "metadata": {},
   "source": [
    "The implementation for this method comes from Percy Liang's C implementation.\n",
    "\n",
    "https://github.com/percyliang/brown-cluster\n",
    "\n",
    "To get the paths file, I just followed the README and gave it our articles (already preprocessed) as input.\n",
    "It is a hierarchical clustering method."
   ]
  },
  {
   "cell_type": "code",
   "execution_count": 82,
   "id": "9e729179-541c-40f2-8c3d-c0272c404543",
   "metadata": {},
   "outputs": [
    {
     "data": {
      "text/html": [
       "<div>\n",
       "<style scoped>\n",
       "    .dataframe tbody tr th:only-of-type {\n",
       "        vertical-align: middle;\n",
       "    }\n",
       "\n",
       "    .dataframe tbody tr th {\n",
       "        vertical-align: top;\n",
       "    }\n",
       "\n",
       "    .dataframe thead th {\n",
       "        text-align: right;\n",
       "    }\n",
       "</style>\n",
       "<table border=\"1\" class=\"dataframe\">\n",
       "  <thead>\n",
       "    <tr style=\"text-align: right;\">\n",
       "      <th></th>\n",
       "      <th>topic</th>\n",
       "      <th>word</th>\n",
       "      <th>freq</th>\n",
       "    </tr>\n",
       "  </thead>\n",
       "  <tbody>\n",
       "    <tr>\n",
       "      <th>0</th>\n",
       "      <td>0</td>\n",
       "      <td>ack</td>\n",
       "      <td>1</td>\n",
       "    </tr>\n",
       "    <tr>\n",
       "      <th>1</th>\n",
       "      <td>0</td>\n",
       "      <td>univac</td>\n",
       "      <td>1</td>\n",
       "    </tr>\n",
       "    <tr>\n",
       "      <th>2</th>\n",
       "      <td>0</td>\n",
       "      <td>maricllc</td>\n",
       "      <td>1</td>\n",
       "    </tr>\n",
       "    <tr>\n",
       "      <th>3</th>\n",
       "      <td>0</td>\n",
       "      <td>budziszewsker</td>\n",
       "      <td>1</td>\n",
       "    </tr>\n",
       "    <tr>\n",
       "      <th>4</th>\n",
       "      <td>0</td>\n",
       "      <td>hilt</td>\n",
       "      <td>1</td>\n",
       "    </tr>\n",
       "    <tr>\n",
       "      <th>...</th>\n",
       "      <td>...</td>\n",
       "      <td>...</td>\n",
       "      <td>...</td>\n",
       "    </tr>\n",
       "    <tr>\n",
       "      <th>61491</th>\n",
       "      <td>11111</td>\n",
       "      <td>vouloir</td>\n",
       "      <td>1198</td>\n",
       "    </tr>\n",
       "    <tr>\n",
       "      <th>61492</th>\n",
       "      <td>11111</td>\n",
       "      <td>venir</td>\n",
       "      <td>1211</td>\n",
       "    </tr>\n",
       "    <tr>\n",
       "      <th>61493</th>\n",
       "      <td>11111</td>\n",
       "      <td>ete</td>\n",
       "      <td>1858</td>\n",
       "    </tr>\n",
       "    <tr>\n",
       "      <th>61494</th>\n",
       "      <td>11111</td>\n",
       "      <td>falloir</td>\n",
       "      <td>2429</td>\n",
       "    </tr>\n",
       "    <tr>\n",
       "      <th>61495</th>\n",
       "      <td>11111</td>\n",
       "      <td>pouvoir</td>\n",
       "      <td>1993</td>\n",
       "    </tr>\n",
       "  </tbody>\n",
       "</table>\n",
       "<p>61496 rows × 3 columns</p>\n",
       "</div>"
      ],
      "text/plain": [
       "       topic           word  freq\n",
       "0          0            ack     1\n",
       "1          0         univac     1\n",
       "2          0       maricllc     1\n",
       "3          0  budziszewsker     1\n",
       "4          0           hilt     1\n",
       "...      ...            ...   ...\n",
       "61491  11111        vouloir  1198\n",
       "61492  11111          venir  1211\n",
       "61493  11111            ete  1858\n",
       "61494  11111        falloir  2429\n",
       "61495  11111        pouvoir  1993\n",
       "\n",
       "[61496 rows x 3 columns]"
      ]
     },
     "execution_count": 82,
     "metadata": {},
     "output_type": "execute_result"
    }
   ],
   "source": [
    "df_brown = pd.read_csv(\"models/paths\", sep=\"\\t\", header=None)\n",
    "df_brown.columns = [\"topic\", \"word\", \"freq\"]\n",
    "df_brown"
   ]
  },
  {
   "cell_type": "code",
   "execution_count": 80,
   "id": "72243933-2433-4c1f-82d6-ce4b415bdd58",
   "metadata": {},
   "outputs": [
    {
     "data": {
      "text/html": [
       "<div>\n",
       "<style scoped>\n",
       "    .dataframe tbody tr th:only-of-type {\n",
       "        vertical-align: middle;\n",
       "    }\n",
       "\n",
       "    .dataframe tbody tr th {\n",
       "        vertical-align: top;\n",
       "    }\n",
       "\n",
       "    .dataframe thead th {\n",
       "        text-align: right;\n",
       "    }\n",
       "</style>\n",
       "<table border=\"1\" class=\"dataframe\">\n",
       "  <thead>\n",
       "    <tr style=\"text-align: right;\">\n",
       "      <th></th>\n",
       "      <th>topic</th>\n",
       "      <th>word</th>\n",
       "      <th>freq</th>\n",
       "    </tr>\n",
       "  </thead>\n",
       "  <tbody>\n",
       "    <tr>\n",
       "      <th>9803</th>\n",
       "      <td>0</td>\n",
       "      <td>jeu_video</td>\n",
       "      <td>4876</td>\n",
       "    </tr>\n",
       "    <tr>\n",
       "      <th>9802</th>\n",
       "      <td>0</td>\n",
       "      <td>jean</td>\n",
       "      <td>764</td>\n",
       "    </tr>\n",
       "    <tr>\n",
       "      <th>9801</th>\n",
       "      <td>0</td>\n",
       "      <td>the</td>\n",
       "      <td>723</td>\n",
       "    </tr>\n",
       "    <tr>\n",
       "      <th>9800</th>\n",
       "      <td>0</td>\n",
       "      <td>of</td>\n",
       "      <td>671</td>\n",
       "    </tr>\n",
       "    <tr>\n",
       "      <th>9799</th>\n",
       "      <td>0</td>\n",
       "      <td>etat_uni</td>\n",
       "      <td>607</td>\n",
       "    </tr>\n",
       "    <tr>\n",
       "      <th>...</th>\n",
       "      <td>...</td>\n",
       "      <td>...</td>\n",
       "      <td>...</td>\n",
       "    </tr>\n",
       "    <tr>\n",
       "      <th>61490</th>\n",
       "      <td>11111</td>\n",
       "      <td>devoir</td>\n",
       "      <td>1158</td>\n",
       "    </tr>\n",
       "    <tr>\n",
       "      <th>61489</th>\n",
       "      <td>11111</td>\n",
       "      <td>permettre</td>\n",
       "      <td>1128</td>\n",
       "    </tr>\n",
       "    <tr>\n",
       "      <th>61488</th>\n",
       "      <td>11111</td>\n",
       "      <td>question</td>\n",
       "      <td>874</td>\n",
       "    </tr>\n",
       "    <tr>\n",
       "      <th>61487</th>\n",
       "      <td>11111</td>\n",
       "      <td>homme</td>\n",
       "      <td>816</td>\n",
       "    </tr>\n",
       "    <tr>\n",
       "      <th>61486</th>\n",
       "      <td>11111</td>\n",
       "      <td>moyen</td>\n",
       "      <td>608</td>\n",
       "    </tr>\n",
       "  </tbody>\n",
       "</table>\n",
       "<p>150 rows × 3 columns</p>\n",
       "</div>"
      ],
      "text/plain": [
       "       topic       word  freq\n",
       "9803       0  jeu_video  4876\n",
       "9802       0       jean   764\n",
       "9801       0        the   723\n",
       "9800       0         of   671\n",
       "9799       0   etat_uni   607\n",
       "...      ...        ...   ...\n",
       "61490  11111     devoir  1158\n",
       "61489  11111  permettre  1128\n",
       "61488  11111   question   874\n",
       "61487  11111      homme   816\n",
       "61486  11111      moyen   608\n",
       "\n",
       "[150 rows x 3 columns]"
      ]
     },
     "execution_count": 80,
     "metadata": {},
     "output_type": "execute_result"
    }
   ],
   "source": [
    "# Look at the top words for each topic\n",
    "top_words = pd.DataFrame()\n",
    "for top in df_brown.topic.unique():\n",
    "    top_words = top_words.append(df_brown[df_brown.topic == top].sort_values(by = 'freq', ascending = False).head(10))\n",
    "top_words"
   ]
  },
  {
   "cell_type": "code",
   "execution_count": 81,
   "id": "53ca404d-0432-4fa5-8dd8-538236c1b2bb",
   "metadata": {},
   "outputs": [
    {
     "data": {
      "text/html": [
       "<div>\n",
       "<style scoped>\n",
       "    .dataframe tbody tr th:only-of-type {\n",
       "        vertical-align: middle;\n",
       "    }\n",
       "\n",
       "    .dataframe tbody tr th {\n",
       "        vertical-align: top;\n",
       "    }\n",
       "\n",
       "    .dataframe thead th {\n",
       "        text-align: right;\n",
       "    }\n",
       "</style>\n",
       "<table border=\"1\" class=\"dataframe\">\n",
       "  <thead>\n",
       "    <tr style=\"text-align: right;\">\n",
       "      <th></th>\n",
       "      <th>topic</th>\n",
       "      <th>words</th>\n",
       "    </tr>\n",
       "  </thead>\n",
       "  <tbody>\n",
       "    <tr>\n",
       "      <th>9803</th>\n",
       "      <td>0</td>\n",
       "      <td>jeu_video jean the of etat_uni saint chaux_fon...</td>\n",
       "    </tr>\n",
       "    <tr>\n",
       "      <th>11964</th>\n",
       "      <td>1000</td>\n",
       "      <td>nintendo playstation mario boy live laurent ke...</td>\n",
       "    </tr>\n",
       "    <tr>\n",
       "      <th>13465</th>\n",
       "      <td>10010</td>\n",
       "      <td>machine sony game version photo sega portable ...</td>\n",
       "    </tr>\n",
       "    <tr>\n",
       "      <th>14331</th>\n",
       "      <td>10011</td>\n",
       "      <td>super metal master possesseur for need offert ...</td>\n",
       "    </tr>\n",
       "    <tr>\n",
       "      <th>16789</th>\n",
       "      <td>1010</td>\n",
       "      <td>tissier la lissier geneve fribourg france laus...</td>\n",
       "    </tr>\n",
       "    <tr>\n",
       "      <th>18631</th>\n",
       "      <td>1011</td>\n",
       "      <td>de pascal cedric wolfgang sur herbert pour mar...</td>\n",
       "    </tr>\n",
       "    <tr>\n",
       "      <th>26593</th>\n",
       "      <td>1100</td>\n",
       "      <td>grand joueur petit monde annee suisse ecran fo...</td>\n",
       "    </tr>\n",
       "    <tr>\n",
       "      <th>29265</th>\n",
       "      <td>110100</td>\n",
       "      <td>propose aventure action offrir premiere fin co...</td>\n",
       "    </tr>\n",
       "    <tr>\n",
       "      <th>33315</th>\n",
       "      <td>110101</td>\n",
       "      <td>console mode meilleur genre salle manette vent...</td>\n",
       "    </tr>\n",
       "    <tr>\n",
       "      <th>34012</th>\n",
       "      <td>110110</td>\n",
       "      <td>video role electroniqu tir videos olympiques p...</td>\n",
       "    </tr>\n",
       "    <tr>\n",
       "      <th>35901</th>\n",
       "      <td>110111</td>\n",
       "      <td>jeu jeux bouton cassette audio carrier cadence...</td>\n",
       "    </tr>\n",
       "    <tr>\n",
       "      <th>42755</th>\n",
       "      <td>11100</td>\n",
       "      <td>uni chaux prise mise chiffre plat electronic d...</td>\n",
       "    </tr>\n",
       "    <tr>\n",
       "      <th>50359</th>\n",
       "      <td>11101</td>\n",
       "      <td>jeune film enfant bon temps jour heure vie pro...</td>\n",
       "    </tr>\n",
       "    <tr>\n",
       "      <th>55352</th>\n",
       "      <td>11110</td>\n",
       "      <td>faire mettre voir passer prendre devenir jouer...</td>\n",
       "    </tr>\n",
       "    <tr>\n",
       "      <th>61494</th>\n",
       "      <td>11111</td>\n",
       "      <td>falloir pouvoir ete venir vouloir devoir perme...</td>\n",
       "    </tr>\n",
       "  </tbody>\n",
       "</table>\n",
       "</div>"
      ],
      "text/plain": [
       "        topic                                              words\n",
       "9803        0  jeu_video jean the of etat_uni saint chaux_fon...\n",
       "11964    1000  nintendo playstation mario boy live laurent ke...\n",
       "13465   10010  machine sony game version photo sega portable ...\n",
       "14331   10011  super metal master possesseur for need offert ...\n",
       "16789    1010  tissier la lissier geneve fribourg france laus...\n",
       "18631    1011  de pascal cedric wolfgang sur herbert pour mar...\n",
       "26593    1100  grand joueur petit monde annee suisse ecran fo...\n",
       "29265  110100  propose aventure action offrir premiere fin co...\n",
       "33315  110101  console mode meilleur genre salle manette vent...\n",
       "34012  110110  video role electroniqu tir videos olympiques p...\n",
       "35901  110111  jeu jeux bouton cassette audio carrier cadence...\n",
       "42755   11100  uni chaux prise mise chiffre plat electronic d...\n",
       "50359   11101  jeune film enfant bon temps jour heure vie pro...\n",
       "55352   11110  faire mettre voir passer prendre devenir jouer...\n",
       "61494   11111  falloir pouvoir ete venir vouloir devoir perme..."
      ]
     },
     "execution_count": 81,
     "metadata": {},
     "output_type": "execute_result"
    }
   ],
   "source": [
    "# Top words for each topic\n",
    "top_words['words'] = top_words.topic.apply(lambda x: ' '.join(top_words[top_words.topic == x].word))\n",
    "top_words = top_words.drop(['word', 'freq'], axis=1).drop_duplicates()\n",
    "top_words"
   ]
  },
  {
   "cell_type": "markdown",
   "id": "1915c790-aa9c-47c4-9779-96a90592cce1",
   "metadata": {},
   "source": [
    "This is interesting because the top words are pretty different than the other methods. The clusters represent words of a similar type, so cluster 11110 and 11111 are filled with verbs, cluster 1011 looks like names, cluster 1010 has locations. The results are interesting, but maybe not adapted to our problem."
   ]
  },
  {
   "cell_type": "code",
   "execution_count": null,
   "id": "7dddc9af-6fdd-41c6-9c36-e0caa8bb7cb5",
   "metadata": {},
   "outputs": [],
   "source": []
  }
 ],
 "metadata": {
  "kernelspec": {
   "display_name": "Python 3 (ipykernel)",
   "language": "python",
   "name": "python3"
  },
  "language_info": {
   "codemirror_mode": {
    "name": "ipython",
    "version": 3
   },
   "file_extension": ".py",
   "mimetype": "text/x-python",
   "name": "python",
   "nbconvert_exporter": "python",
   "pygments_lexer": "ipython3",
   "version": "3.8.12"
  }
 },
 "nbformat": 4,
 "nbformat_minor": 5
}
